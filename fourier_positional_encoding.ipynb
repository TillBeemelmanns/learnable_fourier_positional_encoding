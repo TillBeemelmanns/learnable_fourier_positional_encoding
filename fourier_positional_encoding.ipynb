{
 "cells": [
  {
   "attachments": {},
   "cell_type": "markdown",
   "metadata": {},
   "source": [
    "# Learnable Fourier Features for Multi-Dimensional Spatial Positional Encoding\n",
    "\n",
    "https://arxiv.org/abs/2106.02795"
   ]
  },
  {
   "cell_type": "code",
   "execution_count": 1,
   "metadata": {},
   "outputs": [],
   "source": [
    "import numpy as np\n",
    "import torch\n",
    "import torch.nn as nn\n",
    "\n",
    "import matplotlib.pyplot as plt\n"
   ]
  },
  {
   "attachments": {},
   "cell_type": "markdown",
   "metadata": {},
   "source": [
    "### Pytorch"
   ]
  },
  {
   "cell_type": "code",
   "execution_count": 2,
   "metadata": {},
   "outputs": [],
   "source": [
    "# Credits: https://github.com/willGuimont/learnable_fourier_positional_encoding\n",
    "\n",
    "class LearnableFourierPositionalEncoding(nn.Module):\n",
    "    def __init__(self, G: int, M: int, F_dim: int, H_dim: int, D: int, gamma: float):\n",
    "        \"\"\"\n",
    "        Learnable Fourier Features from https://arxiv.org/pdf/2106.02795.pdf (Algorithm 1)\n",
    "        Implementation of Algorithm 1: Compute the Fourier feature positional encoding of a multi-dimensional position\n",
    "        Computes the positional encoding of a tensor of shape [N, G, M]\n",
    "        :param G: positional groups (positions in different groups are independent)\n",
    "        :param M: each point has a M-dimensional positional values\n",
    "        :param F_dim: depth of the Fourier feature dimension\n",
    "        :param H_dim: hidden layer dimension\n",
    "        :param D: positional encoding dimension\n",
    "        :param gamma: parameter to initialize Wr\n",
    "        \"\"\"\n",
    "        super().__init__()\n",
    "        self.G = G\n",
    "        self.M = M\n",
    "        self.F_dim = F_dim\n",
    "        self.H_dim = H_dim\n",
    "        self.D = D\n",
    "        self.gamma = gamma\n",
    "\n",
    "        # Projection matrix on learned lines (used in eq. 2)\n",
    "        self.Wr = nn.Linear(self.M, self.F_dim // 2, bias=False)\n",
    "        # MLP (GeLU(F @ W1 + B1) @ W2 + B2 (eq. 6)\n",
    "        self.mlp = nn.Sequential(\n",
    "            nn.Linear(self.F_dim, self.H_dim, bias=True),\n",
    "            nn.ReLU(),\n",
    "            nn.Linear(self.H_dim, self.D // self.G, bias=True)\n",
    "        )\n",
    "\n",
    "        self.init_weights()\n",
    "\n",
    "    def init_weights(self):\n",
    "        nn.init.normal_(self.Wr.weight.data, mean=0, std=self.gamma ** -2)\n",
    "\n",
    "    def forward(self, x):\n",
    "        \"\"\"\n",
    "        Produce positional encodings from x\n",
    "        :param x: tensor of shape [N, G, M] that represents N positions where each position is in the shape of [G, M],\n",
    "                  where G is the positional group and each group has M-dimensional positional values.\n",
    "                  Positions in different positional groups are independent\n",
    "        :return: positional encoding for X\n",
    "        \"\"\"\n",
    "        N, G, M = x.shape\n",
    "        # Step 1. Compute Fourier features (eq. 2)\n",
    "        projected = self.Wr(x)\n",
    "        cosines = torch.cos(projected)\n",
    "        sines = torch.sin(projected)\n",
    "        F = 1.0 / np.sqrt(self.F_dim) * torch.cat([cosines, sines], dim=-1)\n",
    "        # Step 2. Compute projected Fourier features (eq. 6)\n",
    "        Y = self.mlp(F)\n",
    "        # Step 3. Reshape to x's shape\n",
    "        PEx = Y.reshape((N, self.D))\n",
    "        return PEx"
   ]
  },
  {
   "cell_type": "code",
   "execution_count": 3,
   "metadata": {},
   "outputs": [],
   "source": [
    "num_points = 200\n",
    "positional_groups = 3  # positional groups ?\n",
    "point_dimension = 3    # x, y, z\n",
    "x_np = np.random.normal(size=(num_points, positional_groups, point_dimension))"
   ]
  },
  {
   "cell_type": "code",
   "execution_count": 4,
   "metadata": {},
   "outputs": [
    {
     "name": "stdout",
     "output_type": "stream",
     "text": [
      "torch.Size([200, 768])\n"
     ]
    },
    {
     "data": {
      "text/plain": [
       "<matplotlib.colorbar.Colorbar at 0x7f46141d77f0>"
      ]
     },
     "execution_count": 4,
     "metadata": {},
     "output_type": "execute_result"
    },
    {
     "data": {
      "image/png": "[encoded data removed]",
      "text/plain": [
       "<Figure size 640x480 with 2 Axes>"
      ]
     },
     "metadata": {},
     "output_type": "display_data"
    }
   ],
   "source": [
    "f_dim = 768            # depth of the Fourier dimension\n",
    "h_dim = 32             # hidden layer\n",
    "positional_encoding_dimension = 768\n",
    "gamma = 10             # ?\n",
    "\n",
    "\n",
    "x = torch.Tensor(x_np)\n",
    "\n",
    "enc = LearnableFourierPositionalEncoding(positional_groups, point_dimension, f_dim, h_dim, positional_encoding_dimension, gamma)\n",
    "pex = enc(x)\n",
    "print(pex.shape)\n",
    "plt.imshow(pex.detach().numpy())\n",
    "plt.colorbar()"
   ]
  },
  {
   "attachments": {},
   "cell_type": "markdown",
   "metadata": {},
   "source": [
    "### Tensorflow"
   ]
  },
  {
   "cell_type": "code",
   "execution_count": 5,
   "metadata": {},
   "outputs": [
    {
     "name": "stderr",
     "output_type": "stream",
     "text": [
      "2023-06-15 18:35:45.431809: I tensorflow/core/platform/cpu_feature_guard.cc:182] This TensorFlow binary is optimized to use available CPU instructions in performance-critical operations.\n",
      "To enable the following instructions: AVX2 FMA, in other operations, rebuild TensorFlow with the appropriate compiler flags.\n",
      "2023-06-15 18:35:45.952572: W tensorflow/compiler/tf2tensorrt/utils/py_utils.cc:38] TF-TRT Warning: Could not find TensorRT\n"
     ]
    }
   ],
   "source": [
    "import tensorflow as tf\n",
    "\n",
    "class LearnableFourierPositionalEncodingTF(tf.keras.layers.Layer):\n",
    "    def __init__(self, G, M, F_dim, H_dim, D, gamma):\n",
    "        super(LearnableFourierPositionalEncodingTF, self).__init__()\n",
    "        self.G = G\n",
    "        self.M = M\n",
    "        self.F_dim = F_dim\n",
    "        self.H_dim = H_dim\n",
    "        self.D = D\n",
    "        self.gamma = gamma\n",
    "\n",
    "        self.Wr = tf.keras.layers.Dense(F_dim // 2, use_bias=False)\n",
    "        \n",
    "        self.mlp = tf.keras.Sequential([\n",
    "            tf.keras.layers.Dense(H_dim, use_bias=True),\n",
    "            tf.keras.layers.ReLU(),\n",
    "            tf.keras.layers.Dense(D // G, use_bias=True)\n",
    "        ])\n",
    "\n",
    "        self.init_weights()\n",
    "\n",
    "    def init_weights(self):\n",
    "        initializer = tf.keras.initializers.RandomNormal(mean=0, stddev=self.gamma ** -2)\n",
    "        self.Wr.build((None, self.M))\n",
    "        self.Wr.kernel.assign(initializer(self.Wr.kernel.shape))\n",
    "\n",
    "    def call(self, x):\n",
    "        N, G, M = x.shape\n",
    "        projected = self.Wr(x)\n",
    "        cosines = tf.cos(projected)\n",
    "        sines = tf.sin(projected)\n",
    "        F = 1.0 / np.sqrt(self.F_dim) * tf.concat([cosines, sines], axis=-1)\n",
    "        Y = self.mlp(F)\n",
    "        PEx = tf.reshape(Y, (N, self.D))\n",
    "        return PEx\n"
   ]
  },
  {
   "cell_type": "code",
   "execution_count": 6,
   "metadata": {},
   "outputs": [
    {
     "name": "stderr",
     "output_type": "stream",
     "text": [
      "2023-06-15 18:35:46.540525: I tensorflow/compiler/xla/stream_executor/cuda/cuda_gpu_executor.cc:996] successful NUMA node read from SysFS had negative value (-1), but there must be at least one NUMA node, so returning NUMA node zero. See more at https://github.com/torvalds/linux/blob/v6.0/Documentation/ABI/testing/sysfs-bus-pci#L344-L355\n",
      "2023-06-15 18:35:46.540766: W tensorflow/core/common_runtime/gpu/gpu_device.cc:1956] Cannot dlopen some GPU libraries. Please make sure the missing libraries mentioned above are installed properly if you would like to use GPU. Follow the guide at https://www.tensorflow.org/install/gpu for how to download and setup the required libraries for your platform.\n",
      "Skipping registering GPU devices...\n"
     ]
    }
   ],
   "source": [
    "enc_tf = LearnableFourierPositionalEncodingTF(positional_groups, point_dimension, f_dim, h_dim, positional_encoding_dimension, gamma)"
   ]
  },
  {
   "cell_type": "code",
   "execution_count": 7,
   "metadata": {},
   "outputs": [
    {
     "name": "stdout",
     "output_type": "stream",
     "text": [
      "(3, 384)\n",
      "(768, 32)\n",
      "(32,)\n",
      "(32, 256)\n",
      "(256,)\n",
      "torch.Size([384, 3])\n",
      "torch.Size([32, 768])\n",
      "torch.Size([32])\n",
      "torch.Size([256, 32])\n",
      "torch.Size([256])\n"
     ]
    }
   ],
   "source": [
    "\n",
    "enc_tf(tf.convert_to_tensor(x_np)) # build layer\n",
    "\n",
    "# tensorflow\n",
    "for w in enc_tf.get_weights():\n",
    "    print(w.shape)\n",
    "\n",
    "# PyTorch\n",
    "for w in enc.parameters():\n",
    "    print(w.shape)\n",
    "\n",
    "# transfer weights from Pytorch Layer to Tensorflow Layer to compare computations\n",
    "enc_tf.Wr.set_weights([enc.Wr.weight.detach().numpy().T])\n",
    "enc_tf.mlp.layers[0].set_weights([enc.mlp[0].weight.detach().numpy().T, enc.mlp[0].bias.detach().numpy()])\n",
    "enc_tf.mlp.layers[2].set_weights([enc.mlp[2].weight.detach().numpy().T, enc.mlp[2].bias.detach().numpy()])"
   ]
  },
  {
   "cell_type": "code",
   "execution_count": 8,
   "metadata": {},
   "outputs": [
    {
     "name": "stdout",
     "output_type": "stream",
     "text": [
      "(200, 768)\n"
     ]
    },
    {
     "data": {
      "text/plain": [
       "<matplotlib.colorbar.Colorbar at 0x7f4573cf7ca0>"
      ]
     },
     "execution_count": 8,
     "metadata": {},
     "output_type": "execute_result"
    },
    {
     "data": {
      "image/png": "[encoded data removed]",
      "text/plain": [
       "<Figure size 640x480 with 2 Axes>"
      ]
     },
     "metadata": {},
     "output_type": "display_data"
    }
   ],
   "source": [
    "\n",
    "x = tf.convert_to_tensor(x_np)\n",
    "pex_tf = enc_tf(x)\n",
    "print(pex_tf.shape)\n",
    "plt.imshow(pex_tf)\n",
    "plt.colorbar()"
   ]
  },
  {
   "cell_type": "code",
   "execution_count": 9,
   "metadata": {},
   "outputs": [
    {
     "data": {
      "text/plain": [
       "<tf.Tensor: shape=(200, 768), dtype=float32, numpy=\n",
       "array([[ 0.0000000e+00,  0.0000000e+00,  0.0000000e+00, ...,\n",
       "         0.0000000e+00,  0.0000000e+00,  0.0000000e+00],\n",
       "       [ 0.0000000e+00,  0.0000000e+00,  0.0000000e+00, ...,\n",
       "        -7.4505806e-09, -3.7252903e-09,  7.4505806e-09],\n",
       "       [ 0.0000000e+00,  7.4505806e-09,  0.0000000e+00, ...,\n",
       "         0.0000000e+00,  0.0000000e+00,  0.0000000e+00],\n",
       "       ...,\n",
       "       [ 0.0000000e+00,  0.0000000e+00,  0.0000000e+00, ...,\n",
       "         0.0000000e+00,  0.0000000e+00,  0.0000000e+00],\n",
       "       [ 0.0000000e+00,  0.0000000e+00,  0.0000000e+00, ...,\n",
       "         0.0000000e+00,  0.0000000e+00, -7.4505806e-09],\n",
       "       [ 1.4901161e-08,  0.0000000e+00,  0.0000000e+00, ...,\n",
       "         0.0000000e+00, -3.7252903e-09,  0.0000000e+00]], dtype=float32)>"
      ]
     },
     "execution_count": 9,
     "metadata": {},
     "output_type": "execute_result"
    }
   ],
   "source": [
    "pex_tf - pex.detach().numpy()"
   ]
  },
  {
   "cell_type": "code",
   "execution_count": 10,
   "metadata": {},
   "outputs": [
    {
     "name": "stdout",
     "output_type": "stream",
     "text": [
      "tf.Tensor(1.8272549e-06, shape=(), dtype=float32)\n"
     ]
    }
   ],
   "source": [
    "print(tf.reduce_sum(pex_tf - pex.detach().numpy()))"
   ]
  },
  {
   "cell_type": "code",
   "execution_count": null,
   "metadata": {},
   "outputs": [],
   "source": []
  }
 ],
 "metadata": {
  "kernelspec": {
   "display_name": ".venv",
   "language": "python",
   "name": "python3"
  },
  "language_info": {
   "codemirror_mode": {
    "name": "ipython",
    "version": 3
   },
   "file_extension": ".py",
   "mimetype": "text/x-python",
   "name": "python",
   "nbconvert_exporter": "python",
   "pygments_lexer": "ipython3",
   "version": "3.10.6"
  },
  "orig_nbformat": 4
 },
 "nbformat": 4,
 "nbformat_minor": 2
}
